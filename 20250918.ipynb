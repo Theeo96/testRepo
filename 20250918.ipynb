{
 "cells": [
  {
   "cell_type": "markdown",
   "id": "2680ae4e",
   "metadata": {},
   "source": [
    "# 2025-09-18"
   ]
  },
  {
   "cell_type": "code",
   "execution_count": 3,
   "id": "0b12a130",
   "metadata": {},
   "outputs": [
    {
     "name": "stdout",
     "output_type": "stream",
     "text": [
      "Hello VSCode\n",
      "update from local vs code\n"
     ]
    }
   ],
   "source": [
    "print(\"Hello VSCode\")\n",
    "print(\"update from local vs code\")"
   ]
  },
  {
   "cell_type": "code",
   "execution_count": 2,
   "id": "4be35867",
   "metadata": {},
   "outputs": [
    {
     "name": "stdout",
     "output_type": "stream",
     "text": [
      "8\n"
     ]
    }
   ],
   "source": [
    "def aad(a, b) :\n",
    "    return a+b\n",
    "\n",
    "c = aad(3,5)\n",
    "print(c)"
   ]
  }
 ],
 "metadata": {
  "kernelspec": {
   "display_name": "Python 3",
   "language": "python",
   "name": "python3"
  },
  "language_info": {
   "codemirror_mode": {
    "name": "ipython",
    "version": 3
   },
   "file_extension": ".py",
   "mimetype": "text/x-python",
   "name": "python",
   "nbconvert_exporter": "python",
   "pygments_lexer": "ipython3",
   "version": "3.11.8"
  }
 },
 "nbformat": 4,
 "nbformat_minor": 5
}
